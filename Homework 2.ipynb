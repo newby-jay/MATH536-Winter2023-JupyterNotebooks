{
 "cells": [
  {
   "cell_type": "code",
   "execution_count": 1,
   "metadata": {},
   "outputs": [
    {
     "name": "stdout",
     "output_type": "stream",
     "text": [
      "Populating the interactive namespace from numpy and matplotlib\n"
     ]
    }
   ],
   "source": [
    "%pylab inline\n",
    "%config InlineBackend.figure_format = 'retina'\n",
    "from ipywidgets import interact"
   ]
  },
  {
   "cell_type": "markdown",
   "metadata": {},
   "source": [
    "Turn in an image (e.g., screenshot) or PDF copy of any code that is part of your answer. Make sure all images and PDF pages are properly rotated. Make sure that all pages are clearly visible. \n",
    "\n",
    "Tips: Use the document scanner function on your smart phone to take better page \"scans\" using your camera. Make sure your screen is not shifted toward warmer colours (some devices filter blue light at night) giving it a dim and orange appearance. "
   ]
  },
  {
   "cell_type": "markdown",
   "metadata": {},
   "source": [
    "# Q1 \n",
    "## ill-posed boundary value problem\n",
    "Consider the following linear boundary value problem\n",
    "with Dirichlet boundary conditions:\n",
    "\\begin{equation*} \n",
    "\\begin{split}\n",
    "&u''(x) +  u(x) = 0 \\quad \\text{for $a< x< b$}\\\\\n",
    "&u(a)=\\alpha,\\quad u(b)=\\beta.\n",
    "\\end{split}\n",
    "\\end{equation*}\n",
    "Note that this equation arises from a linearized pendulum, for example.\n",
    "\n",
    "## A\n",
    "Develop and code a numerical scheme to solve this problem.  Test your modified\n",
    "routine on the problem with\n",
    "$$\n",
    "a = 0, \\quad b = 1, \\quad \\alpha = 2, \\quad \\beta = 3.\n",
    "$$\n",
    "Determine the exact solution for comparison.\n",
    "\n",
    "## B\n",
    "Let $a=0$ and $b=\\pi$. \n",
    "For what values of $\\alpha$ and $\\beta$  does this boundary value problem\n",
    "have solutions?\n",
    "Sketch a family of solutions in a case where there are infinitely many\n",
    "solutions.\n",
    "\n",
    "## C\n",
    "Solve the problem with \n",
    "$$\n",
    "a = 0, \\quad b = \\pi, \\quad \\alpha = 1, \\quad \\beta = -1.\n",
    "$$\n",
    "using your code. Which solution to the boundary value\n",
    "problem does this appear to converge to as $h\\to 0$?  Change the boundary\n",
    "value at $b=\\pi$ to $\\beta = 1$.  Now how does the numerical solution behave\n",
    "as $h\\to 0$?\n",
    "\n",
    "## D\n",
    "You might expect the linear system in part (c) to be singular since\n",
    "the boundary value problem is not well posed.  It is not, because of\n",
    "discretization error.  Compute the eigenvalues of the matrix $A$ for this\n",
    "problem and show that an eigenvalue approaches 0 as $h\\to 0$.\n",
    "Also show that $\\Vert A^{-1}\\Vert_2$ blows up as $h\\to 0$ so that the\n",
    "discretization is unstable."
   ]
  },
  {
   "cell_type": "code",
   "execution_count": null,
   "metadata": {},
   "outputs": [],
   "source": []
  },
  {
   "cell_type": "markdown",
   "metadata": {},
   "source": [
    "# Q2 \n",
    "## A\n",
    "Write a program to solve the boundary value problem for the\n",
    "nonlinear pendulum as discussed in the text.  See if you can find yet\n",
    "another solution for the boundary conditions illustrated in Figures 2.4\n",
    "and 2.5.\n",
    "\n",
    "## B\n",
    "Find a numerical solution to this BVP with the same\n",
    "general behavior as seen in Figure 2.5 for the case of a longer time\n",
    "interval, say $T=20$, again with $\\alpha=\\beta=0.7$.  Try larger values of\n",
    "$T$.  What does $\\max_i \\theta_i$ approach as $T$ is increased?  Note that\n",
    "for large $T$ this solution exhibits \"boundary layers\"."
   ]
  },
  {
   "cell_type": "code",
   "execution_count": null,
   "metadata": {},
   "outputs": [],
   "source": []
  },
  {
   "cell_type": "markdown",
   "metadata": {},
   "source": [
    "# Q3\n",
    "The Poisson problem code in the Week 4 Notebook solves the Poisson problem on a square\n",
    "$m\\times m$ grid with $\\Delta x = \\Delta y = h$, using the 5-point\n",
    "Laplacian.  It is set up to solve a test problem for which the exact\n",
    "solution is $u(x,y) = \\exp(x+y/2)$, using Dirichlet boundary conditions and\n",
    "the right hand side $f(x,y) = 1.25 \\exp(x+y/2)$.\n",
    "\n",
    "## A\n",
    "Test this code by performing a grid refinement study to verify that it is second order accurate.\n",
    "\n",
    "## B\n",
    "Modify the code so that it works on a rectangular domain $[a_x,b_x]\n",
    "\\times [a_y,b_y]$, but still with $\\Delta x = \\Delta y = h$.  Test your\n",
    "modified code on a non-square domain.\n",
    "\n",
    "## C \n",
    "Further modify the code to allow $\\Delta x \\neq \\Delta y$ and test the modified code."
   ]
  },
  {
   "cell_type": "code",
   "execution_count": null,
   "metadata": {},
   "outputs": [],
   "source": []
  },
  {
   "cell_type": "markdown",
   "metadata": {},
   "source": [
    "# Q4\n",
    "## A\n",
    "Show that the 9-point Laplacian (3.17) has the truncation error derived in\n",
    "Section 3.5.\n",
    "**Hint: To simplify the computation, note that the 9-point Laplacian can\n",
    "be written as the 5-point Laplacian (with known truncation error) plus a\n",
    "finite difference approximation that models $\\frac 1 6 h^2 u_{xxyy} +\n",
    "O(h^4)$.**\n",
    "\n",
    "## B\n",
    "Modify the Poisson problem code in the Week 4 Notebook to use the 9-point Laplacian (3.17) instead of the 5-point Laplacian, and to solve the linear system (3.18) where $f_{ij}$ is given by (3.19).  Perform a grid refinement study to verify that fourth order accuracy is achieved."
   ]
  },
  {
   "cell_type": "code",
   "execution_count": null,
   "metadata": {},
   "outputs": [],
   "source": []
  }
 ],
 "metadata": {
  "kernelspec": {
   "display_name": "Python 3",
   "language": "python",
   "name": "python3"
  },
  "language_info": {
   "codemirror_mode": {
    "name": "ipython",
    "version": 3
   },
   "file_extension": ".py",
   "mimetype": "text/x-python",
   "name": "python",
   "nbconvert_exporter": "python",
   "pygments_lexer": "ipython3",
   "version": "3.7.3"
  }
 },
 "nbformat": 4,
 "nbformat_minor": 2
}
