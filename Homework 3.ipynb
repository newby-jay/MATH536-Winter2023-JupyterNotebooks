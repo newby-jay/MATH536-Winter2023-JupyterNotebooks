{
 "cells": [
  {
   "cell_type": "code",
   "execution_count": 3,
   "metadata": {},
   "outputs": [
    {
     "name": "stdout",
     "output_type": "stream",
     "text": [
      "Populating the interactive namespace from numpy and matplotlib\n"
     ]
    }
   ],
   "source": [
    "%pylab inline\n",
    "%config InlineBackend.figure_format = 'retina'\n",
    "from ipywidgets import interact"
   ]
  },
  {
   "cell_type": "markdown",
   "metadata": {},
   "source": [
    "Turn in an image (e.g., screenshot) or PDF copy of any code that is part of your answer. Make sure all images and PDF pages are properly rotated. Make sure that all pages are clearly visible. \n",
    "\n",
    "Tips: Use the document scanner function on your smart phone to take better page \"scans\" using your camera. Make sure your screen is not shifted toward warmer colours (some devices filter blue light at night) giving it a dim and orange appearance. "
   ]
  },
  {
   "cell_type": "markdown",
   "metadata": {},
   "source": [
    "# Q1: Forward vs. backward Gauss-Seidel\n",
    "## A\n",
    "The Gauss-Seidel method for the discretization of $u''(x) = f(x)$\n",
    "takes the form (4.5) if we assume we are marching forwards across the grid,\n",
    "for $i=1, 2, \\ldots, m$.  We can also define a *backwards Gauss-Seidel\n",
    "method* by setting\n",
    "\\begin{equation}\n",
    "u_i^{[k+1]} = \\frac{1}{2}\\left(u_{i-1}^{[k]} + u_{i+1}^{[k+1]} - h^2 f_i\\right), \\quad\n",
    "\\text{for} i = m, m-1, m-2, \\ldots, 1.\n",
    "\\end{equation}\n",
    "Show that this is a matrix splitting method of the type described in\n",
    "Section 4.2 with $M = D-U$ and $N=L$.\n",
    "\n",
    "## B\n",
    "Implement this method (use $a=0$, $b=1$, $\\alpha=0$, $\\beta=0$, $f(x)=1$) and observe that it converges at the same rate as forward Gauss-Siedel for this problem.\n",
    "\n",
    "## C\n",
    "Modify the code so that it solves the boundary value problem\n",
    "\\begin{equation}\n",
    "\\epsilon u''(x) = au'(x) + f(x),\\qquad 0\\leq x \\leq 1,\n",
    "\\end{equation} \n",
    "with $u(0) = 0$ and $u(1) = 0$, where $a\\geq 0$ and the $u'(x_i)$ term\n",
    "is discretized by the one-sided approximation $(U_i - U_{i-1})/h$.\n",
    "Test both forward and backward Gauss-Seidel for the resulting linear system.\n",
    "With $a=1$ and $\\epsilon = 0.0005$.  You should find that they behave very\n",
    "differently. Explain intuitively why sweeping in one direction works so much better than\n",
    "in the other.\n",
    "\n",
    "**Hint: Note that this equation is the steady equation for an advection-diffusion PDE**\n",
    "$$u_t(x,t) + au_x(x,t) = \\epsilon u_{xx}(x,t) - f(x).$$\n",
    "**You might consider how the methods behave in the case $\\epsilon = 0$.**"
   ]
  },
  {
   "cell_type": "code",
   "execution_count": null,
   "metadata": {},
   "outputs": [],
   "source": []
  },
  {
   "cell_type": "markdown",
   "metadata": {},
   "source": [
    "# Q2\n",
    "The 5-point applied to the problem $ \\nabla^2 u = f(x, y) $, with homogeneous Dirichlet boundary conditions on the unit square, takes the form\n",
    "$$ \\frac{1}{h^2}\\left(u_{i, j-1} + u_{i-1, j} - 4u_{ij} + u_{i+1, j} + u_{i,j+1}\\right) = f_{ij},$$\n",
    "for $i=1,\\ldots, m$ and $j=1,\\ldots, m$. Let \n",
    "$$f(x, y) = \\sin(\\pi x)\\sin(\\pi y) + \\sin(3\\pi x)\\sin(5\\pi y).$$\n",
    "# A\n",
    "What is the exact solution $\\tilde{U}_{ij}$ to the **discrete** problem? **Hint: work it out using eigenvelues and eigenvectors.**\n",
    "# B\n",
    "Write code to solve this problem using the Jacobi, Gauss-Seidel, and SOR iterative methods.\n",
    "# C\n",
    "Use your code to solve the problem using the initial guess $u^{(0)}_{ij} = 0$. Use $m=19$. Compute the global error of the $k$th iteration, $E^{(k)} = \\tilde{U}_{ij} - u^{(k)}_{ij}$. For each method, how many iterations $k$ does it take so that $\\Vert E^{(k)}\\Vert_2 \\leq \\delta\\Vert E^{(0)}\\Vert_2$, with $\\delta = 10^{-4}$.\n",
    "# D\n",
    "For the SOR method, how does the answer depend on $\\omega$? Try $\\omega=\\omega_{\\rm opt}$ and $\\omega$ a little above and below $\\omega_{\\rm opt}$.\n",
    "# E\n",
    "Repeat C and D with $m=39$."
   ]
  },
  {
   "cell_type": "code",
   "execution_count": null,
   "metadata": {},
   "outputs": [],
   "source": []
  },
  {
   "cell_type": "markdown",
   "metadata": {},
   "source": [
    "# Q3\n",
    "Repeat Q2 with conjugate gradient (CG) and preconditioned conjugate gradient (PCG). For the preconditioner, you can write your own incomplete Choleski code (see Section 4.3.6) or find one that you can use (e.g., in the Scipy library). How does the convergence behavior depend on the preconditioner? Compare your results to your Q2 solution."
   ]
  },
  {
   "cell_type": "code",
   "execution_count": null,
   "metadata": {},
   "outputs": [],
   "source": []
  },
  {
   "cell_type": "markdown",
   "metadata": {},
   "source": [
    "# Q4\n",
    "Prove that if $A\\in \\mathbb{C}^{m\\times m}$ is irreducible and weakly diagonally dominant then the Gauss-Seidel iterations for $Ax=b$ will converge."
   ]
  },
  {
   "cell_type": "markdown",
   "metadata": {},
   "source": []
  },
  {
   "cell_type": "markdown",
   "metadata": {},
   "source": [
    "# Q5\n",
    "Let $A\\in \\mathbb{C}^{m\\times m}$. Show that $ \\lim_{n\\to\\infty}\\Vert A^n \\Vert^{1/n} = \\rho(A)$."
   ]
  },
  {
   "cell_type": "markdown",
   "metadata": {},
   "source": []
  }
 ],
 "metadata": {
  "kernelspec": {
   "display_name": "Python 3",
   "language": "python",
   "name": "python3"
  },
  "language_info": {
   "codemirror_mode": {
    "name": "ipython",
    "version": 3
   },
   "file_extension": ".py",
   "mimetype": "text/x-python",
   "name": "python",
   "nbconvert_exporter": "python",
   "pygments_lexer": "ipython3",
   "version": "3.7.3"
  }
 },
 "nbformat": 4,
 "nbformat_minor": 2
}
