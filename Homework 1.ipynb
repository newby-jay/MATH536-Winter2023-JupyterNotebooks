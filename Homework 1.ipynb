{
 "cells": [
  {
   "cell_type": "code",
   "execution_count": 1,
   "metadata": {},
   "outputs": [
    {
     "name": "stdout",
     "output_type": "stream",
     "text": [
      "Populating the interactive namespace from numpy and matplotlib\n"
     ]
    }
   ],
   "source": [
    "%pylab inline\n",
    "%config InlineBackend.figure_format = 'retina'\n",
    "from ipywidgets import interact"
   ]
  },
  {
   "cell_type": "markdown",
   "metadata": {},
   "source": [
    "Turn in an image (e.g., screenshot) or PDF copy of any code that is part of your answer. Make sure all images and PDF pages are properly rotated. Make sure that all pages are clearly visible. \n",
    "\n",
    "Tips: Use the document scanner function on your smart phone to take better page \"scans\" using your camera. Make sure your screen is not shifted toward warmer colours (some devices filter blue light at night) giving it a dim and orange appearance. "
   ]
  },
  {
   "cell_type": "markdown",
   "metadata": {},
   "source": [
    "# Q1\n",
    "Use the method of undetermined coefficients to set up the $5\\times 5$\n",
    "Vandermonde system that would determine a fourth-order accurate\n",
    "finite difference approximation to $u''(x)$ based on 5 equally spaced\n",
    "points,\n",
    "$$u''(x) = c_{-2} u(x-2h) + c_{-1} u(x-h) + c_0u(x) + c_1u(x+h) +\n",
    "c_2u(x+2h) + O(h^4).$$\n",
    "\n",
    "## A\n",
    "Compute or calculate the coefficients. If you compute them, verify that they satisfy the system you determined in part A. **Warning: the Vandermonde matrix is ill conditioned and may be difficult to solve numerically. Errors made in computing the coefficients might effect the accuracy of the finite difference formula.**\n",
    "\n",
    "## B\n",
    "Calculate the leading order truncation error.\n",
    "\n",
    "## C\n",
    "Test this finite difference formula to approximate $u''(1)$ for \n",
    "$u(x) = \\sin(2x)$ with values of $h$ from the array `hvals = logspace(-1, -4, 13)`.\n",
    "Produce a log-log plot of the absolute value of the error vs.~$h$. \n",
    "Also plot the result of part B for comparison.\n",
    "\n",
    "**Note: You should observe the predicted accuracy for larger values of $h$.  For\n",
    "smaller values, numerical cancellation in computing the linear combination\n",
    "of $u$ values impacts the accuracy observed.**"
   ]
  },
  {
   "cell_type": "code",
   "execution_count": null,
   "metadata": {},
   "outputs": [],
   "source": []
  },
  {
   "cell_type": "markdown",
   "metadata": {},
   "source": [
    "# Q2 \n",
    "## A\n",
    "Write out the $5\\times 5$ matrix $A$ from (2.43) **(the equation is on page 26)** for the boundary value problem $u''(x)=f(x)$ with $u(0)=u(1)=0$ for  $h = 0.25$.\n",
    "\n",
    "## B\n",
    "Write out the $5\\times 5$ inverse matrix $A^{-1}$ explicitly for this problem.\n",
    "\n",
    "## C\n",
    "If $f(x) = x$, determine the discrete approximation to the solution of the boundary value problem on this grid and sketch this solution and the five Green's functions whose sum gives this solution."
   ]
  },
  {
   "cell_type": "code",
   "execution_count": null,
   "metadata": {},
   "outputs": [],
   "source": []
  },
  {
   "cell_type": "markdown",
   "metadata": {},
   "source": [
    "# Q3\n",
    "## A\n",
    "Determine the Green's functions for the two-point boundary value problem $u''(x) = f(x)$ on $0<x<1$ with a Neumann boundary condition at $x=0$ and a Dirichlet condition at $x=1$, i.e, find the function $G(x,\\bar x)$ solving\n",
    "$$\n",
    "u''(x) = \\delta(x-\\bar x), \\quad u'(0)=0, \\quad u(1)=0\n",
    "$$\n",
    "and the functions $G_0(x)$ solving\n",
    "$$\n",
    "u''(x) = 0, \\quad u'(0)=1, \\quad u(1)=0\n",
    "$$\n",
    "and $G_1(x)$ solving\n",
    "$$\n",
    "u''(x) = 0, \\quad u'(0)=0, \\quad u(1)=1.\n",
    "$$\n",
    "\n",
    "## B \n",
    "Using this as guidance, find the general formulas for the elements of the inverse of the matrix in equation (2.54).  Write out the $5\\times 5$ matrices $A$ and $A^{-1}$ for the case $h=0.25$."
   ]
  },
  {
   "cell_type": "code",
   "execution_count": null,
   "metadata": {},
   "outputs": [],
   "source": []
  },
  {
   "cell_type": "markdown",
   "metadata": {},
   "source": [
    "# Q4\n",
    "Determine the null space of the matrix $A^T$, where $A$ is given in equation (2.58), and verify that the condition (2.62) must hold for the linear system to have solutions."
   ]
  },
  {
   "cell_type": "code",
   "execution_count": null,
   "metadata": {},
   "outputs": [],
   "source": []
  }
 ],
 "metadata": {
  "kernelspec": {
   "display_name": "Python 3",
   "language": "python",
   "name": "python3"
  },
  "language_info": {
   "codemirror_mode": {
    "name": "ipython",
    "version": 3
   },
   "file_extension": ".py",
   "mimetype": "text/x-python",
   "name": "python",
   "nbconvert_exporter": "python",
   "pygments_lexer": "ipython3",
   "version": "3.7.3"
  }
 },
 "nbformat": 4,
 "nbformat_minor": 2
}
